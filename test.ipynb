{
 "cells": [
  {
   "cell_type": "code",
   "execution_count": 3,
   "metadata": {},
   "outputs": [
    {
     "name": "stdout",
     "output_type": "stream",
     "text": [
      "[[0 0 0 0]\n",
      " [0 0 0 0]\n",
      " [0 0 0 0]]\n"
     ]
    }
   ],
   "source": [
    "import numpy as np\n",
    "from scipy.sparse import csr_matrix\n",
    "from scipy.sparse import csr_matrix\n",
    "\n",
    "# Create a sparse matrix of shape (3, 4) with integer data type\n",
    "mtx = csr_matrix((3, 4), dtype=np.int8)\n",
    "\n",
    "# Convert sparse matrix to dense format and print it\n",
    "print(mtx.todense())\n"
   ]
  },
  {
   "cell_type": "code",
   "execution_count": 4,
   "metadata": {},
   "outputs": [
    {
     "ename": "NameError",
     "evalue": "name 'filtered_sparse_matrix' is not defined",
     "output_type": "error",
     "traceback": [
      "\u001b[0;31m---------------------------------------------------------------------------\u001b[0m",
      "\u001b[0;31mNameError\u001b[0m                                 Traceback (most recent call last)",
      "Cell \u001b[0;32mIn[4], line 19\u001b[0m\n\u001b[1;32m     16\u001b[0m sparse_matrix \u001b[38;5;241m=\u001b[39m sparse_matrix[non_zero_row_indices]\n\u001b[1;32m     18\u001b[0m \u001b[38;5;66;03m# Convert filtered sparse matrix to dense\u001b[39;00m\n\u001b[0;32m---> 19\u001b[0m filtered_sparse_matrix\u001b[38;5;241m.\u001b[39mtodense()\n",
      "\u001b[0;31mNameError\u001b[0m: name 'filtered_sparse_matrix' is not defined"
     ]
    }
   ],
   "source": [
    "import numpy as np\n",
    "from scipy.sparse import csr_matrix\n",
    "\n",
    "user_ids = np.array([1, 2, 3, 4, 6, 6])\n",
    "movie_ids = np.array([7, 8, 9, 7, 8, 10])\n",
    "binary_ratings = np.array([1, 1, 1, 1, 1, 1])\n",
    "\n",
    "\n",
    "# Create a sparse matrix\n",
    "num_users = user_ids.max()\n",
    "num_movies = movie_ids.max()\n",
    "sparse_matrix = csr_matrix((binary_ratings, (movie_ids - 1, user_ids - 1)), shape=(num_movies, num_users))\n",
    "\n",
    "# Filter out zero rows\n",
    "non_zero_row_indices = sparse_matrix.getnnz(axis=1) > 0\n",
    "sparse_matrix = sparse_matrix[non_zero_row_indices]\n",
    "\n",
    "# Convert filtered sparse matrix to dense\n",
    "filtered_sparse_matrix.todense()"
   ]
  },
  {
   "cell_type": "code",
   "execution_count": 77,
   "metadata": {},
   "outputs": [],
   "source": [
    "import argparse\n",
    "import numpy as np\n",
    "from scipy.sparse import csr_matrix\n",
    "\n",
    "# Set the random seed for reproducibility\n",
    "def set_random_seed(seed):\n",
    "    np.random.seed(seed)\n",
    "\n",
    "# Load the dataset from the provided path and create a sparse matrix\n",
    "def load_data_sparse(file_path):\n",
    "    try:\n",
    "        # Load raw data\n",
    "        data = np.load(file_path)\n",
    "        print(f\"Data loaded successfully from {file_path}\")\n",
    "        print(f\"Data shape: {data.shape}\")\n",
    "\n",
    "        # Extract user IDs and movie IDs\n",
    "        user_ids = data[:, 0]\n",
    "        movie_ids = data[:, 1]\n",
    "\n",
    "        # Binary representation (1 for rated, 0 for not rated)\n",
    "        binary_ratings = np.ones(len(user_ids), dtype=np.int8)\n",
    "\n",
    "        # Create a sparse matrix\n",
    "        num_users = user_ids.max()\n",
    "        num_movies = movie_ids.max()\n",
    "        sparse_matrix = csr_matrix((binary_ratings, (movie_ids - 1, user_ids - 1)), shape=(num_movies, num_users))\n",
    "\n",
    "        return sparse_matrix\n",
    "    except Exception as e:\n",
    "        print(f\"Error loading the data or creating sparse matrix: {e}\")\n",
    "        return None\n",
    "    \n",
    "def LSH_Imp (sparse_matrix):\n",
    "    try:\n",
    "        # Create Permutation Matrix of \n",
    "        \n",
    "        PS = 100 #Permutation Size \n",
    "        mov_size = sparse_matrix.shape[0]\n",
    "        usr_size = sparse_matrix.shape[1]\n",
    "\n",
    "        #Create the Permutation Matrix with size 100 * Movies Number\n",
    "        Perm_matrix = np.array([np.random.permutation(mov_size) + 1 for _ in range(PS)]).T\n",
    "        print(f\"Perm_matrix shape: {Perm_matrix.shape}\")\n",
    "\n",
    "\n",
    "\n",
    "\n",
    "        # Initialize the signature matrix with zeros values\n",
    "        signature_matrix = np.zeros((PS, usr_size))\n",
    "\n",
    "        # Compute MinHash signatures\n",
    "        for perm_idx in range(PS):  # Iterate over permutations\n",
    "            # Current permutation of movie indices\n",
    "            perm_vector = Perm_matrix[:, perm_idx]  # 1-based indices\n",
    "\n",
    "            # Convert to 0-based indices\n",
    "            perm_vector = perm_vector - 1\n",
    "\n",
    "            # Reorder the sparse matrix rows based on the permutation\n",
    "            permuted_matrix = sparse_matrix[perm_vector, :]\n",
    "\n",
    "            # Get the index of the first non zero \n",
    "            first_nonzero_indices = np.argmax(permuted_matrix != 0, axis=0)+1\n",
    "\n",
    "            signature_matrix[perm_idx,] = first_nonzero_indices\n",
    "        \n",
    "\n",
    "            print(f\"Processed permutation {perm_idx + 1}/{PS}\")\n",
    "\n",
    "        print(\"MinHash signatures computed.\")\n",
    "        return signature_matrix\n",
    "    \n",
    "    except Exception as e:\n",
    "        print(f\"Error loading the data or creating sparse matrix: {e}\")\n",
    "        return None\n"
   ]
  },
  {
   "cell_type": "code",
   "execution_count": 78,
   "metadata": {},
   "outputs": [],
   "source": [
    "set_random_seed(42)"
   ]
  },
  {
   "cell_type": "code",
   "execution_count": 79,
   "metadata": {},
   "outputs": [
    {
     "name": "stdout",
     "output_type": "stream",
     "text": [
      "Data loaded successfully from /Users/eelco/Desktop/Master Data Science/Semester 3/Advances in Data Mining/FinalAssignment/user_movie_rating.npy\n",
      "Data shape: (65225506, 3)\n"
     ]
    },
    {
     "data": {
      "text/plain": [
       "<17770x103703 sparse matrix of type '<class 'numpy.int8'>'\n",
       "\twith 65225506 stored elements in Compressed Sparse Row format>"
      ]
     },
     "execution_count": 79,
     "metadata": {},
     "output_type": "execute_result"
    }
   ],
   "source": [
    "load_data_sparse('/Users/eelco/Desktop/Master Data Science/Semester 3/Advances in Data Mining/FinalAssignment/user_movie_rating.npy')"
   ]
  },
  {
   "cell_type": "code",
   "execution_count": 80,
   "metadata": {},
   "outputs": [
    {
     "name": "stdout",
     "output_type": "stream",
     "text": [
      "Perm_matrix shape: (17770, 100)\n",
      "Processed permutation 1/100\n",
      "Processed permutation 2/100\n",
      "Processed permutation 3/100\n",
      "Processed permutation 4/100\n",
      "Processed permutation 5/100\n",
      "Processed permutation 6/100\n",
      "Processed permutation 7/100\n",
      "Processed permutation 8/100\n",
      "Processed permutation 9/100\n",
      "Processed permutation 10/100\n",
      "Processed permutation 11/100\n",
      "Processed permutation 12/100\n",
      "Processed permutation 13/100\n",
      "Processed permutation 14/100\n",
      "Processed permutation 15/100\n",
      "Processed permutation 16/100\n",
      "Processed permutation 17/100\n",
      "Processed permutation 18/100\n",
      "Processed permutation 19/100\n",
      "Processed permutation 20/100\n",
      "Processed permutation 21/100\n",
      "Processed permutation 22/100\n",
      "Processed permutation 23/100\n",
      "Processed permutation 24/100\n",
      "Processed permutation 25/100\n",
      "Processed permutation 26/100\n",
      "Processed permutation 27/100\n",
      "Processed permutation 28/100\n",
      "Processed permutation 29/100\n",
      "Processed permutation 30/100\n",
      "Processed permutation 31/100\n",
      "Processed permutation 32/100\n",
      "Processed permutation 33/100\n",
      "Processed permutation 34/100\n",
      "Processed permutation 35/100\n",
      "Processed permutation 36/100\n",
      "Processed permutation 37/100\n",
      "Processed permutation 38/100\n",
      "Processed permutation 39/100\n",
      "Processed permutation 40/100\n",
      "Processed permutation 41/100\n",
      "Processed permutation 42/100\n",
      "Processed permutation 43/100\n",
      "Processed permutation 44/100\n",
      "Processed permutation 45/100\n",
      "Processed permutation 46/100\n",
      "Processed permutation 47/100\n",
      "Processed permutation 48/100\n",
      "Processed permutation 49/100\n",
      "Processed permutation 50/100\n",
      "Processed permutation 51/100\n",
      "Processed permutation 52/100\n",
      "Processed permutation 53/100\n",
      "Processed permutation 54/100\n",
      "Processed permutation 55/100\n",
      "Processed permutation 56/100\n",
      "Processed permutation 57/100\n",
      "Processed permutation 58/100\n",
      "Processed permutation 59/100\n",
      "Processed permutation 60/100\n",
      "Processed permutation 61/100\n",
      "Processed permutation 62/100\n",
      "Processed permutation 63/100\n",
      "Processed permutation 64/100\n",
      "Processed permutation 65/100\n",
      "Processed permutation 66/100\n",
      "Processed permutation 67/100\n",
      "Processed permutation 68/100\n",
      "Processed permutation 69/100\n",
      "Processed permutation 70/100\n",
      "Processed permutation 71/100\n",
      "Processed permutation 72/100\n",
      "Processed permutation 73/100\n",
      "Processed permutation 74/100\n",
      "Processed permutation 75/100\n",
      "Processed permutation 76/100\n",
      "Processed permutation 77/100\n",
      "Processed permutation 78/100\n",
      "Processed permutation 79/100\n",
      "Processed permutation 80/100\n",
      "Processed permutation 81/100\n",
      "Processed permutation 82/100\n",
      "Processed permutation 83/100\n",
      "Processed permutation 84/100\n",
      "Processed permutation 85/100\n",
      "Processed permutation 86/100\n",
      "Processed permutation 87/100\n",
      "Processed permutation 88/100\n",
      "Processed permutation 89/100\n",
      "Processed permutation 90/100\n",
      "Processed permutation 91/100\n",
      "Processed permutation 92/100\n",
      "Processed permutation 93/100\n",
      "Processed permutation 94/100\n",
      "Processed permutation 95/100\n",
      "Processed permutation 96/100\n",
      "Processed permutation 97/100\n",
      "Processed permutation 98/100\n",
      "Processed permutation 99/100\n",
      "Processed permutation 100/100\n",
      "MinHash signatures computed.\n"
     ]
    }
   ],
   "source": [
    "signature_matrix = LSH_Imp(sparse_matrix)\n"
   ]
  },
  {
   "cell_type": "code",
   "execution_count": 81,
   "metadata": {},
   "outputs": [
    {
     "name": "stdout",
     "output_type": "stream",
     "text": [
      "[[  4.   4.   1. ...  21.  55.  21.]\n",
      " [ 31.   7.  11. ...  11.  11.  11.]\n",
      " [ 52.   4.   4. ... 161.  21.   4.]\n",
      " ...\n",
      " [ 70.   2.  13. ...  13. 143.  13.]\n",
      " [ 50.  34.  23. ...  21.  63. 105.]\n",
      " [ 12.  38.  12. ...  53.  38.  12.]]\n"
     ]
    }
   ],
   "source": [
    "print(signature_matrix)"
   ]
  },
  {
   "cell_type": "code",
   "execution_count": 82,
   "metadata": {},
   "outputs": [],
   "source": [
    "def LSH_Sim(signature_matrix, b = 10):\n",
    "    #Splitting the signature matrix into (b) bands of (r) rows\n",
    "    r = int(len(signature_matrix) / b)\n",
    "    bands = []\n",
    "    for i in range(0, len(signature_matrix), r):\n",
    "        bands.append(signature_matrix[i:i+r, :])\n",
    "    return bands\n",
    "    "
   ]
  },
  {
   "cell_type": "code",
   "execution_count": 83,
   "metadata": {},
   "outputs": [],
   "source": [
    "bands = LSH_Sim(signature_matrix)"
   ]
  },
  {
   "cell_type": "code",
   "execution_count": 84,
   "metadata": {},
   "outputs": [
    {
     "name": "stdout",
     "output_type": "stream",
     "text": [
      "[array([[  4.,   4.,   1., ...,  21.,  55.,  21.],\n",
      "       [ 31.,   7.,  11., ...,  11.,  11.,  11.],\n",
      "       [ 52.,   4.,   4., ..., 161.,  21.,   4.],\n",
      "       ...,\n",
      "       [ 24.,  34.,   9., ...,  63.,  17.,  30.],\n",
      "       [  8.,   8.,   2., ...,  48.,  16.,   8.],\n",
      "       [ 60.,  43.,  40., ...,  20.,  53.,  20.]]), array([[ 35.,  22.,  35., ...,  54.,  31.,  54.],\n",
      "       [ 21.,  21.,   3., ...,  82.,  82., 127.],\n",
      "       [ 24.,  29.,  29., ..., 144.,  29.,  87.],\n",
      "       ...,\n",
      "       [ 30.,  14.,   7., ...,  30.,  64.,  30.],\n",
      "       [ 91.,   8.,  43., ...,  43.,  94.,  94.],\n",
      "       [ 36.,  42.,   7., ...,  20.,  10., 122.]]), array([[ 17.,  17.,  17., ...,   2.,   9.,  17.],\n",
      "       [  1.,   1.,   1., ...,   1.,  28.,   1.],\n",
      "       [ 45.,  37.,  24., ...,  15.,  15.,  24.],\n",
      "       ...,\n",
      "       [ 63.,   5.,  12., ...,   5.,  15.,   5.],\n",
      "       [ 26.,   8.,  30., ..., 204.,   5.,  85.],\n",
      "       [ 35.,  77.,  38., ..., 159., 159.,  86.]]), array([[ 15.,  15.,  15., ...,  15., 183.,  15.],\n",
      "       [ 64.,  19.,  19., ...,  86.,  86.,  37.],\n",
      "       [ 37.,   5.,  37., ...,  23., 161.,  56.],\n",
      "       ...,\n",
      "       [ 14.,   8.,   8., ...,   8.,  14.,  59.],\n",
      "       [ 44.,  11.,  44., ...,  44., 140.,  44.],\n",
      "       [  8.,  43.,  56., ..., 131.,  43., 129.]]), array([[  4.,   4.,   4., ...,   4.,   4.,   4.],\n",
      "       [ 65.,  25.,   2., ...,  11.,  52.,  25.],\n",
      "       [  3.,   8.,   8., ...,  12.,   8.,   8.],\n",
      "       ...,\n",
      "       [ 19.,  15.,   5., ...,  19.,  15.,  17.],\n",
      "       [ 48.,   1.,   1., ..., 116., 186.,  59.],\n",
      "       [ 53.,   4.,   4., ...,   9.,  19., 175.]]), array([[ 62.,   2.,   2., ...,  75.,  14., 117.],\n",
      "       [  1.,  19.,  18., ...,  44.,  36.,  29.],\n",
      "       [  3.,   3.,   3., ...,  87.,  41.,  87.],\n",
      "       ...,\n",
      "       [ 36.,   4.,   4., ...,  76.,  68.,  45.],\n",
      "       [ 19.,  98.,  24., ...,   1., 136.,  48.],\n",
      "       [ 27.,  27., 112., ...,  27.,  20.,  27.]]), array([[  1.,   1.,   2., ...,   2.,   2.,   2.],\n",
      "       [ 57.,  13.,  13., ...,  13.,  13.,  13.],\n",
      "       [ 40.,  48.,  74., ..., 120., 141., 155.],\n",
      "       ...,\n",
      "       [ 55.,  39.,  44., ...,  39.,  44.,  25.],\n",
      "       [ 38.,  68.,   1., ...,  65.,  95.,  68.],\n",
      "       [ 12.,  42.,  22., ...,  42.,   7.,  58.]]), array([[ 12.,  12.,   5., ...,  12., 178.,  12.],\n",
      "       [ 14.,  39.,  39., ...,  45.,  39.,  10.],\n",
      "       [ 16.,  29.,  42., ...,  12.,  38.,  42.],\n",
      "       ...,\n",
      "       [  9.,   5.,   8., ...,  24.,  16.,  12.],\n",
      "       [ 64.,  44.,  28., ...,  44.,  44.,  77.],\n",
      "       [ 18.,  18.,   4., ...,   4.,  51.,  18.]]), array([[ 5., 16.,  5., ...,  5.,  5., 70.],\n",
      "       [17., 17., 17., ...,  4., 10., 17.],\n",
      "       [16., 16., 16., ..., 27., 27., 16.],\n",
      "       ...,\n",
      "       [17., 41., 17., ..., 41., 41., 17.],\n",
      "       [14., 14., 72., ..., 19., 31., 14.],\n",
      "       [ 7.,  2., 33., ...,  7., 33., 33.]]), array([[ 12.,   7.,  12., ...,  21.,   7.,  12.],\n",
      "       [ 17.,  10.,  10., ...,  17.,  74.,  74.],\n",
      "       [ 52.,  31.,  52., ...,  52.,  52., 139.],\n",
      "       ...,\n",
      "       [ 70.,   2.,  13., ...,  13., 143.,  13.],\n",
      "       [ 50.,  34.,  23., ...,  21.,  63., 105.],\n",
      "       [ 12.,  38.,  12., ...,  53.,  38.,  12.]])]\n"
     ]
    }
   ],
   "source": [
    "print(bands)"
   ]
  }
 ],
 "metadata": {
  "kernelspec": {
   "display_name": "base",
   "language": "python",
   "name": "python3"
  },
  "language_info": {
   "codemirror_mode": {
    "name": "ipython",
    "version": 3
   },
   "file_extension": ".py",
   "mimetype": "text/x-python",
   "name": "python",
   "nbconvert_exporter": "python",
   "pygments_lexer": "ipython3",
   "version": "3.11.5"
  }
 },
 "nbformat": 4,
 "nbformat_minor": 2
}

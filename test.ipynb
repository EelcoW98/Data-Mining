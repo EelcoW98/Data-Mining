{
 "cells": [
  {
   "cell_type": "code",
   "execution_count": null,
   "metadata": {},
   "outputs": [
    {
     "name": "stdout",
     "output_type": "stream",
     "text": [
      "[[0 0 0 0]\n",
      " [0 0 0 0]\n",
      " [0 0 0 0]]\n"
     ]
    }
   ],
   "source": [
    "import numpy as np\n",
    "from scipy.sparse import csr_matrix\n",
    "from scipy.sparse import csr_matrix\n",
    "\n",
    "# Create a sparse matrix of shape (3, 4) with integer data type\n",
    "mtx = csr_matrix((3, 4), dtype=np.int8)\n",
    "\n",
    "# Convert sparse matrix to dense format and print it\n",
    "print(mtx.todense())\n"
   ]
  },
  {
   "cell_type": "code",
   "execution_count": null,
   "metadata": {},
   "outputs": [
    {
     "data": {
      "text/plain": [
       "matrix([[1, 0, 0, 1, 0, 0],\n",
       "        [0, 1, 0, 0, 0, 1],\n",
       "        [0, 0, 1, 0, 0, 0],\n",
       "        [0, 0, 0, 0, 0, 1]])"
      ]
     },
     "execution_count": 21,
     "metadata": {},
     "output_type": "execute_result"
    }
   ],
   "source": [
    "import numpy as np\n",
    "from scipy.sparse import csr_matrix\n",
    "\n",
    "user_ids = np.array([1, 2, 3, 4, 6, 6])\n",
    "movie_ids = np.array([7, 8, 9, 7, 8, 10])\n",
    "binary_ratings = np.array([1, 1, 1, 1, 1, 1])\n",
    "\n",
    "\n",
    "# Create a sparse matrix\n",
    "num_users = user_ids.max()\n",
    "num_movies = movie_ids.max()\n",
    "sparse_matrix = csr_matrix((binary_ratings, (movie_ids - 1, user_ids - 1)), shape=(num_movies, num_users))\n",
    "\n",
    "# Filter out zero rows\n",
    "non_zero_row_indices = sparse_matrix.getnnz(axis=1) > 0\n",
    "sparse_matrix = sparse_matrix[non_zero_row_indices]\n",
    "\n",
    "# Convert filtered sparse matrix to dense\n",
    "filtered_sparse_matrix.todense()"
   ]
  },
  {
   "cell_type": "code",
   "execution_count": null,
   "metadata": {},
   "outputs": [
    {
     "data": {
      "text/plain": [
       "array([0, 0, 1, 1, 2, 2])"
      ]
     },
     "execution_count": 17,
     "metadata": {},
     "output_type": "execute_result"
    }
   ],
   "source": []
  }
 ],
 "metadata": {
  "kernelspec": {
   "display_name": "Python 3",
   "language": "python",
   "name": "python3"
  },
  "language_info": {
   "codemirror_mode": {
    "name": "ipython",
    "version": 3
   },
   "file_extension": ".py",
   "mimetype": "text/x-python",
   "name": "python",
   "nbconvert_exporter": "python",
   "pygments_lexer": "ipython3",
   "version": "3.12.0"
  }
 },
 "nbformat": 4,
 "nbformat_minor": 2
}
